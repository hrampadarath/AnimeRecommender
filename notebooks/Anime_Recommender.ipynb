{
 "cells": [
  {
   "cell_type": "markdown",
   "metadata": {},
   "source": [
    "## Anime Recommender\n",
    "\n",
    "This is an updated version of the Anime Recommender project. This version uses an new an updated version of the dataset.\n"
   ]
  },
  {
   "cell_type": "code",
   "execution_count": 2,
   "metadata": {},
   "outputs": [],
   "source": [
    "import numpy as np\n",
    "import pandas as pd\n",
    "import seaborn as sns\n",
    "sns.set_style('white')\n",
    "import matplotlib.pyplot as plt\n",
    "%matplotlib inline\n",
    "import re"
   ]
  },
  {
   "cell_type": "markdown",
   "metadata": {},
   "source": [
    "### The dataset\n",
    "See the webscrape script in the raw_data folder"
   ]
  },
  {
   "cell_type": "code",
   "execution_count": 3,
   "metadata": {},
   "outputs": [],
   "source": [
    "anime_db = pd.read_csv('../data/My_Anime_List_uncleaned.csv')"
   ]
  },
  {
   "cell_type": "code",
   "execution_count": 4,
   "metadata": {
    "collapsed": false,
    "jupyter": {
     "outputs_hidden": false
    }
   },
   "outputs": [
    {
     "data": {
      "text/html": [
       "<div>\n",
       "<style scoped>\n",
       "    .dataframe tbody tr th:only-of-type {\n",
       "        vertical-align: middle;\n",
       "    }\n",
       "\n",
       "    .dataframe tbody tr th {\n",
       "        vertical-align: top;\n",
       "    }\n",
       "\n",
       "    .dataframe thead th {\n",
       "        text-align: right;\n",
       "    }\n",
       "</style>\n",
       "<table border=\"1\" class=\"dataframe\">\n",
       "  <thead>\n",
       "    <tr style=\"text-align: right;\">\n",
       "      <th></th>\n",
       "      <th>Unnamed: 0</th>\n",
       "      <th>name</th>\n",
       "      <th>type</th>\n",
       "      <th>episodes</th>\n",
       "      <th>members</th>\n",
       "      <th>score_members</th>\n",
       "      <th>rating</th>\n",
       "      <th>genre</th>\n",
       "      <th>dates</th>\n",
       "      <th>url</th>\n",
       "    </tr>\n",
       "  </thead>\n",
       "  <tbody>\n",
       "    <tr>\n",
       "      <th>0</th>\n",
       "      <td>0</td>\n",
       "      <td>Fullmetal Alchemist: Brotherhood</td>\n",
       "      <td>TV</td>\n",
       "      <td>64.0</td>\n",
       "      <td>1777286.0</td>\n",
       "      <td>1085943.0</td>\n",
       "      <td>9.23</td>\n",
       "      <td>['Action', 'Military', 'Adventure', 'Comedy', ...</td>\n",
       "      <td>Apr 2009 - Jul 2010</td>\n",
       "      <td>https://myanimelist.net/anime/5114/Fullmetal_A...</td>\n",
       "    </tr>\n",
       "    <tr>\n",
       "      <th>1</th>\n",
       "      <td>1</td>\n",
       "      <td>Steins;Gate</td>\n",
       "      <td>TV</td>\n",
       "      <td>24.0</td>\n",
       "      <td>1450929.0</td>\n",
       "      <td>796015.0</td>\n",
       "      <td>9.13</td>\n",
       "      <td>['Thriller', 'Sci-Fi']</td>\n",
       "      <td>Apr 2011 - Sep 2011</td>\n",
       "      <td>https://myanimelist.net/anime/9253/Steins_Gate</td>\n",
       "    </tr>\n",
       "    <tr>\n",
       "      <th>2</th>\n",
       "      <td>2</td>\n",
       "      <td>Gintama°Gintama Season 4</td>\n",
       "      <td>TV</td>\n",
       "      <td>51.0</td>\n",
       "      <td>313855.0</td>\n",
       "      <td>110913.0</td>\n",
       "      <td>9.12</td>\n",
       "      <td>['Action', 'Comedy', 'Historical', 'Parody', '...</td>\n",
       "      <td>Apr 2015 - Mar 2016</td>\n",
       "      <td>https://myanimelist.net/anime/28977/Gintama°</td>\n",
       "    </tr>\n",
       "    <tr>\n",
       "      <th>3</th>\n",
       "      <td>3</td>\n",
       "      <td>Hunter x Hunter (2011)Hunter x Hunter</td>\n",
       "      <td>TV</td>\n",
       "      <td>148.0</td>\n",
       "      <td>1197308.0</td>\n",
       "      <td>679156.0</td>\n",
       "      <td>9.12</td>\n",
       "      <td>['Action', 'Adventure', 'Fantasy', 'Shounen', ...</td>\n",
       "      <td>Oct 2011 - Sep 2014</td>\n",
       "      <td>https://myanimelist.net/anime/11061/Hunter_x_H...</td>\n",
       "    </tr>\n",
       "    <tr>\n",
       "      <th>4</th>\n",
       "      <td>4</td>\n",
       "      <td>Ginga Eiyuu DensetsuLegend of the Galactic Heroes</td>\n",
       "      <td>OVA</td>\n",
       "      <td>110.0</td>\n",
       "      <td>189727.0</td>\n",
       "      <td>43203.0</td>\n",
       "      <td>9.11</td>\n",
       "      <td>['Military', 'Sci-Fi', 'Space', 'Drama']</td>\n",
       "      <td>Jan 1988 - Mar 1997</td>\n",
       "      <td>https://myanimelist.net/anime/820/Ginga_Eiyuu_...</td>\n",
       "    </tr>\n",
       "  </tbody>\n",
       "</table>\n",
       "</div>"
      ],
      "text/plain": [
       "   Unnamed: 0                                               name type  \\\n",
       "0           0                   Fullmetal Alchemist: Brotherhood   TV   \n",
       "1           1                                        Steins;Gate   TV   \n",
       "2           2                           Gintama°Gintama Season 4   TV   \n",
       "3           3              Hunter x Hunter (2011)Hunter x Hunter   TV   \n",
       "4           4  Ginga Eiyuu DensetsuLegend of the Galactic Heroes  OVA   \n",
       "\n",
       "   episodes    members  score_members  rating  \\\n",
       "0      64.0  1777286.0      1085943.0    9.23   \n",
       "1      24.0  1450929.0       796015.0    9.13   \n",
       "2      51.0   313855.0       110913.0    9.12   \n",
       "3     148.0  1197308.0       679156.0    9.12   \n",
       "4     110.0   189727.0        43203.0    9.11   \n",
       "\n",
       "                                               genre  \\\n",
       "0  ['Action', 'Military', 'Adventure', 'Comedy', ...   \n",
       "1                             ['Thriller', 'Sci-Fi']   \n",
       "2  ['Action', 'Comedy', 'Historical', 'Parody', '...   \n",
       "3  ['Action', 'Adventure', 'Fantasy', 'Shounen', ...   \n",
       "4           ['Military', 'Sci-Fi', 'Space', 'Drama']   \n",
       "\n",
       "                         dates  \\\n",
       "0          Apr 2009 - Jul 2010   \n",
       "1          Apr 2011 - Sep 2011   \n",
       "2          Apr 2015 - Mar 2016   \n",
       "3          Oct 2011 - Sep 2014   \n",
       "4          Jan 1988 - Mar 1997   \n",
       "\n",
       "                                                 url  \n",
       "0  https://myanimelist.net/anime/5114/Fullmetal_A...  \n",
       "1     https://myanimelist.net/anime/9253/Steins_Gate  \n",
       "2       https://myanimelist.net/anime/28977/Gintama°  \n",
       "3  https://myanimelist.net/anime/11061/Hunter_x_H...  \n",
       "4  https://myanimelist.net/anime/820/Ginga_Eiyuu_...  "
      ]
     },
     "execution_count": 4,
     "metadata": {},
     "output_type": "execute_result"
    }
   ],
   "source": [
    "anime_db.head()"
   ]
  },
  {
   "cell_type": "code",
   "execution_count": 5,
   "metadata": {
    "collapsed": false,
    "jupyter": {
     "outputs_hidden": false
    }
   },
   "outputs": [
    {
     "name": "stdout",
     "output_type": "stream",
     "text": [
      "<class 'pandas.core.frame.DataFrame'>\n",
      "RangeIndex: 16750 entries, 0 to 16749\n",
      "Data columns (total 10 columns):\n",
      " #   Column         Non-Null Count  Dtype  \n",
      "---  ------         --------------  -----  \n",
      " 0   Unnamed: 0     16750 non-null  int64  \n",
      " 1   name           160 non-null    object \n",
      " 2   type           16750 non-null  object \n",
      " 3   episodes       16256 non-null  float64\n",
      " 4   members        16750 non-null  float64\n",
      " 5   score_members  157 non-null    float64\n",
      " 6   rating         157 non-null    float64\n",
      " 7   genre          160 non-null    object \n",
      " 8   dates          16750 non-null  object \n",
      " 9   url            16750 non-null  object \n",
      "dtypes: float64(4), int64(1), object(5)\n",
      "memory usage: 1.3+ MB\n"
     ]
    }
   ],
   "source": [
    "anime_db.info()"
   ]
  },
  {
   "cell_type": "code",
   "execution_count": 6,
   "metadata": {
    "collapsed": false,
    "jupyter": {
     "outputs_hidden": false
    },
    "scrolled": true
   },
   "outputs": [
    {
     "data": {
      "image/png": "[encoded data removed]",
      "text/plain": [
       "<Figure size 432x432 with 3 Axes>"
      ]
     },
     "metadata": {
      "needs_background": "light"
     },
     "output_type": "display_data"
    }
   ],
   "source": [
    "sns.jointplot(x='rating',y='members',data=anime_db,alpha=0.5)\n",
    "plt.yscale('log')"
   ]
  },
  {
   "cell_type": "code",
   "execution_count": 13,
   "metadata": {},
   "outputs": [
    {
     "data": {
      "text/plain": [
       "<seaborn.axisgrid.JointGrid at 0x7fe333b38f50>"
      ]
     },
     "execution_count": 13,
     "metadata": {},
     "output_type": "execute_result"
    },
    {
     "data": {
      "image/png": "[encoded data removed]",
      "text/plain": [
       "<Figure size 432x432 with 3 Axes>"
      ]
     },
     "metadata": {
      "needs_background": "light"
     },
     "output_type": "display_data"
    }
   ],
   "source": [
    "sns.jointplot(x='members',y='score_members',data=anime_db,alpha=0.5)"
   ]
  },
  {
   "cell_type": "code",
   "execution_count": 14,
   "metadata": {
    "collapsed": false,
    "jupyter": {
     "outputs_hidden": false
    }
   },
   "outputs": [
    {
     "data": {
      "text/plain": [
       "rating           0.990627\n",
       "score_members    0.990627\n",
       "genre            0.990448\n",
       "name             0.990448\n",
       "episodes         0.029493\n",
       "url              0.000000\n",
       "dates            0.000000\n",
       "members          0.000000\n",
       "type             0.000000\n",
       "Unnamed: 0       0.000000\n",
       "dtype: float64"
      ]
     },
     "execution_count": 14,
     "metadata": {},
     "output_type": "execute_result"
    }
   ],
   "source": [
    "#check missing values\n",
    "anime_db.isnull().sum().sort_values(ascending=False)/len(anime_db)"
   ]
  },
  {
   "cell_type": "code",
   "execution_count": 26,
   "metadata": {},
   "outputs": [
    {
     "data": {
      "text/plain": [
       "16590"
      ]
     },
     "execution_count": 26,
     "metadata": {},
     "output_type": "execute_result"
    }
   ],
   "source": [
    "anime_db[\"name\"].isnull().sum()"
   ]
  },
  {
   "cell_type": "code",
   "execution_count": 24,
   "metadata": {},
   "outputs": [
    {
     "data": {
      "text/plain": [
       "160    NaN\n",
       "161    NaN\n",
       "162    NaN\n",
       "163    NaN\n",
       "164    NaN\n",
       "165    NaN\n",
       "166    NaN\n",
       "167    NaN\n",
       "168    NaN\n",
       "169    NaN\n",
       "170    NaN\n",
       "171    NaN\n",
       "172    NaN\n",
       "173    NaN\n",
       "174    NaN\n",
       "175    NaN\n",
       "176    NaN\n",
       "177    NaN\n",
       "178    NaN\n",
       "179    NaN\n",
       "Name: name, dtype: object"
      ]
     },
     "execution_count": 24,
     "metadata": {},
     "output_type": "execute_result"
    }
   ],
   "source": [
    "anime_db[\"name\"][160:180]"
   ]
  },
  {
   "cell_type": "code",
   "execution_count": 7,
   "metadata": {
    "collapsed": true,
    "jupyter": {
     "outputs_hidden": true
    }
   },
   "outputs": [],
   "source": [
    "#repalce missing ratings with average\n",
    "anime_db['rating'].fillna(anime_db[\"rating\"].median(),inplace = True)"
   ]
  },
  {
   "cell_type": "code",
   "execution_count": 18,
   "metadata": {
    "collapsed": true,
    "jupyter": {
     "outputs_hidden": true
    }
   },
   "outputs": [],
   "source": [
    "#replace missing types with 'unknown'\n",
    "anime_db['type'].fillna('T/M',inplace = True)"
   ]
  },
  {
   "cell_type": "code",
   "execution_count": 26,
   "metadata": {
    "collapsed": false,
    "jupyter": {
     "outputs_hidden": false
    }
   },
   "outputs": [],
   "source": [
    "anime_features = pd.concat([anime_db.genre.str.get_dummies(sep=\",\"),\n",
    "                            pd.get_dummies(anime_db['type']),anime_db.rating],axis=1)"
   ]
  },
  {
   "cell_type": "code",
   "execution_count": 28,
   "metadata": {
    "collapsed": false,
    "jupyter": {
     "outputs_hidden": false
    }
   },
   "outputs": [
    {
     "data": {
      "text/html": [
       "<div>\n",
       "<style>\n",
       "    .dataframe thead tr:only-child th {\n",
       "        text-align: right;\n",
       "    }\n",
       "\n",
       "    .dataframe thead th {\n",
       "        text-align: left;\n",
       "    }\n",
       "\n",
       "    .dataframe tbody tr th {\n",
       "        vertical-align: top;\n",
       "    }\n",
       "</style>\n",
       "<table border=\"1\" class=\"dataframe\">\n",
       "  <thead>\n",
       "    <tr style=\"text-align: right;\">\n",
       "      <th></th>\n",
       "      <th>Adventure</th>\n",
       "      <th>Cars</th>\n",
       "      <th>Comedy</th>\n",
       "      <th>Dementia</th>\n",
       "      <th>Demons</th>\n",
       "      <th>Drama</th>\n",
       "      <th>Ecchi</th>\n",
       "      <th>Fantasy</th>\n",
       "      <th>Game</th>\n",
       "      <th>Harem</th>\n",
       "      <th>...</th>\n",
       "      <th>Vampire</th>\n",
       "      <th>Yaoi</th>\n",
       "      <th>Movie</th>\n",
       "      <th>Music</th>\n",
       "      <th>ONA</th>\n",
       "      <th>OVA</th>\n",
       "      <th>Special</th>\n",
       "      <th>T/M</th>\n",
       "      <th>TV</th>\n",
       "      <th>rating</th>\n",
       "    </tr>\n",
       "  </thead>\n",
       "  <tbody>\n",
       "    <tr>\n",
       "      <th>0</th>\n",
       "      <td>0</td>\n",
       "      <td>0</td>\n",
       "      <td>0</td>\n",
       "      <td>0</td>\n",
       "      <td>0</td>\n",
       "      <td>0</td>\n",
       "      <td>0</td>\n",
       "      <td>0</td>\n",
       "      <td>0</td>\n",
       "      <td>0</td>\n",
       "      <td>...</td>\n",
       "      <td>0</td>\n",
       "      <td>0</td>\n",
       "      <td>1</td>\n",
       "      <td>0</td>\n",
       "      <td>0</td>\n",
       "      <td>0</td>\n",
       "      <td>0</td>\n",
       "      <td>0</td>\n",
       "      <td>0</td>\n",
       "      <td>9.37</td>\n",
       "    </tr>\n",
       "    <tr>\n",
       "      <th>1</th>\n",
       "      <td>1</td>\n",
       "      <td>0</td>\n",
       "      <td>0</td>\n",
       "      <td>0</td>\n",
       "      <td>0</td>\n",
       "      <td>1</td>\n",
       "      <td>0</td>\n",
       "      <td>1</td>\n",
       "      <td>0</td>\n",
       "      <td>0</td>\n",
       "      <td>...</td>\n",
       "      <td>0</td>\n",
       "      <td>0</td>\n",
       "      <td>0</td>\n",
       "      <td>0</td>\n",
       "      <td>0</td>\n",
       "      <td>0</td>\n",
       "      <td>0</td>\n",
       "      <td>0</td>\n",
       "      <td>1</td>\n",
       "      <td>9.26</td>\n",
       "    </tr>\n",
       "    <tr>\n",
       "      <th>2</th>\n",
       "      <td>0</td>\n",
       "      <td>0</td>\n",
       "      <td>1</td>\n",
       "      <td>0</td>\n",
       "      <td>0</td>\n",
       "      <td>0</td>\n",
       "      <td>0</td>\n",
       "      <td>0</td>\n",
       "      <td>0</td>\n",
       "      <td>0</td>\n",
       "      <td>...</td>\n",
       "      <td>0</td>\n",
       "      <td>0</td>\n",
       "      <td>0</td>\n",
       "      <td>0</td>\n",
       "      <td>0</td>\n",
       "      <td>0</td>\n",
       "      <td>0</td>\n",
       "      <td>0</td>\n",
       "      <td>1</td>\n",
       "      <td>9.25</td>\n",
       "    </tr>\n",
       "    <tr>\n",
       "      <th>3</th>\n",
       "      <td>0</td>\n",
       "      <td>0</td>\n",
       "      <td>0</td>\n",
       "      <td>0</td>\n",
       "      <td>0</td>\n",
       "      <td>0</td>\n",
       "      <td>0</td>\n",
       "      <td>0</td>\n",
       "      <td>0</td>\n",
       "      <td>0</td>\n",
       "      <td>...</td>\n",
       "      <td>0</td>\n",
       "      <td>0</td>\n",
       "      <td>0</td>\n",
       "      <td>0</td>\n",
       "      <td>0</td>\n",
       "      <td>0</td>\n",
       "      <td>0</td>\n",
       "      <td>0</td>\n",
       "      <td>1</td>\n",
       "      <td>9.17</td>\n",
       "    </tr>\n",
       "    <tr>\n",
       "      <th>4</th>\n",
       "      <td>0</td>\n",
       "      <td>0</td>\n",
       "      <td>1</td>\n",
       "      <td>0</td>\n",
       "      <td>0</td>\n",
       "      <td>0</td>\n",
       "      <td>0</td>\n",
       "      <td>0</td>\n",
       "      <td>0</td>\n",
       "      <td>0</td>\n",
       "      <td>...</td>\n",
       "      <td>0</td>\n",
       "      <td>0</td>\n",
       "      <td>0</td>\n",
       "      <td>0</td>\n",
       "      <td>0</td>\n",
       "      <td>0</td>\n",
       "      <td>0</td>\n",
       "      <td>0</td>\n",
       "      <td>1</td>\n",
       "      <td>9.16</td>\n",
       "    </tr>\n",
       "  </tbody>\n",
       "</table>\n",
       "<p>5 rows × 90 columns</p>\n",
       "</div>"
      ],
      "text/plain": [
       "    Adventure   Cars   Comedy   Dementia   Demons   Drama   Ecchi   Fantasy  \\\n",
       "0           0      0        0          0        0       0       0         0   \n",
       "1           1      0        0          0        0       1       0         1   \n",
       "2           0      0        1          0        0       0       0         0   \n",
       "3           0      0        0          0        0       0       0         0   \n",
       "4           0      0        1          0        0       0       0         0   \n",
       "\n",
       "    Game   Harem   ...    Vampire  Yaoi  Movie  Music  ONA  OVA  Special  T/M  \\\n",
       "0      0       0   ...          0     0      1      0    0    0        0    0   \n",
       "1      0       0   ...          0     0      0      0    0    0        0    0   \n",
       "2      0       0   ...          0     0      0      0    0    0        0    0   \n",
       "3      0       0   ...          0     0      0      0    0    0        0    0   \n",
       "4      0       0   ...          0     0      0      0    0    0        0    0   \n",
       "\n",
       "   TV  rating  \n",
       "0   0    9.37  \n",
       "1   1    9.26  \n",
       "2   1    9.25  \n",
       "3   1    9.17  \n",
       "4   1    9.16  \n",
       "\n",
       "[5 rows x 90 columns]"
      ]
     },
     "execution_count": 28,
     "metadata": {},
     "output_type": "execute_result"
    }
   ],
   "source": [
    "anime_features.head()"
   ]
  },
  {
   "cell_type": "code",
   "execution_count": 34,
   "metadata": {
    "collapsed": false,
    "jupyter": {
     "outputs_hidden": false
    }
   },
   "outputs": [],
   "source": [
    "#remove special characters from the names\n",
    "anime_db[\"name\"] = anime_db[\"name\"].map(lambda name:re.sub('[^A-Za-z0-9]+', \" \", name))"
   ]
  },
  {
   "cell_type": "code",
   "execution_count": 44,
   "metadata": {
    "collapsed": true,
    "jupyter": {
     "outputs_hidden": true
    }
   },
   "outputs": [],
   "source": [
    "#use MaxBsScaler to scale the features from 1-0, while preserving sparsity\n",
    "from sklearn.preprocessing import MaxAbsScaler\n",
    "max_abs_scaler = MaxAbsScaler()\n",
    "anime_features = max_abs_scaler.fit_transform(anime_features)"
   ]
  },
  {
   "cell_type": "code",
   "execution_count": 36,
   "metadata": {
    "collapsed": true,
    "jupyter": {
     "outputs_hidden": true
    }
   },
   "outputs": [],
   "source": [
    "#build a model using the unsupervised verion of K-Nearest Neighbors\n",
    "from sklearn.neighbors import NearestNeighbors"
   ]
  },
  {
   "cell_type": "code",
   "execution_count": 66,
   "metadata": {
    "collapsed": false,
    "jupyter": {
     "outputs_hidden": false
    }
   },
   "outputs": [],
   "source": [
    "nn_model = NearestNeighbors(n_neighbors=10,algorithm='auto').fit(anime_features)"
   ]
  },
  {
   "cell_type": "code",
   "execution_count": 67,
   "metadata": {
    "collapsed": false,
    "jupyter": {
     "outputs_hidden": false
    }
   },
   "outputs": [],
   "source": [
    "#Obtain the indices of and distances to the the nearest K neighbors of each point.\n",
    "distances, indices = nn_model.kneighbors(anime_features)"
   ]
  },
  {
   "cell_type": "code",
   "execution_count": 147,
   "metadata": {
    "collapsed": false,
    "jupyter": {
     "outputs_hidden": false
    }
   },
   "outputs": [],
   "source": [
    "def similar_anime_content(query):\n",
    "    if query not in anime_db['name']:\n",
    "        N = anime_db[anime_db['name'] == query].index[0]\n",
    "        print('Similar Anime to \"{}\":'.format(query))\n",
    "        for n in indices[N][1:]:\n",
    "            print('Anime: {} \\n Genre: {}; Average ratings: {}; Format: {}'.format(anime_db.name[n],\n",
    "                                                                      anime_db.genre[n],\n",
    "                                                                      anime_db.rating[n],anime_db['type'][n])) \n",
    "        \n",
    "    else:\n",
    "        print('The anime {} does not exist in our database.'.format(query))"
   ]
  },
  {
   "cell_type": "code",
   "execution_count": 148,
   "metadata": {
    "collapsed": false,
    "jupyter": {
     "outputs_hidden": false
    }
   },
   "outputs": [
    {
     "name": "stdout",
     "output_type": "stream",
     "text": [
      "Similar Anime to \"Berserk\":\n",
      "Anime: Berserk 2016  \n",
      " Genre: Action, Adventure, Demons, Drama, Fantasy, Horror, Military, Romance, Seinen, Supernatural; Average ratings: 6.81; Format: TV\n",
      "Anime: Berserk 2017  \n",
      " Genre: Action, Adventure, Demons, Drama, Fantasy, Horror, Magic, Military, Romance, Supernatural; Average ratings: 6.57; Format: TV\n",
      "Anime: Berserk Ougon Jidai hen III Kourin \n",
      " Genre: Action, Adventure, Demons, Drama, Fantasy, Horror, Military, Seinen, Supernatural; Average ratings: 8.33; Format: Movie\n",
      "Anime: Berserk Ougon Jidai hen II Doldrey Kouryaku \n",
      " Genre: Action, Adventure, Demons, Drama, Fantasy, Horror, Military, Seinen, Supernatural; Average ratings: 8.09; Format: Movie\n",
      "Anime: Berserk Ougon Jidai hen I Haou no Tamago \n",
      " Genre: Action, Adventure, Demons, Fantasy, Military, Seinen, Supernatural; Average ratings: 7.91; Format: Movie\n",
      "Anime: Elfen Lied \n",
      " Genre: Action, Drama, Horror, Psychological, Romance, Seinen, Supernatural; Average ratings: 7.85; Format: TV\n",
      "Anime: Shakugan no Shana III Final  \n",
      " Genre: Action, Drama, Fantasy, Romance, Supernatural; Average ratings: 7.73; Format: TV\n",
      "Anime: Kemonozume \n",
      " Genre: Action, Demons, Horror, Romance, Supernatural; Average ratings: 7.59; Format: TV\n",
      "Anime: Zetman \n",
      " Genre: Action, Drama, Horror, Romance, Sci-Fi, Seinen, Supernatural; Average ratings: 7.01; Format: TV\n"
     ]
    }
   ],
   "source": [
    "similar_anime_content('Berserk')"
   ]
  },
  {
   "cell_type": "code",
   "execution_count": 103,
   "metadata": {
    "collapsed": false,
    "jupyter": {
     "outputs_hidden": false
    }
   },
   "outputs": [],
   "source": [
    "name_string = anime_db.name.str.split(' ')"
   ]
  },
  {
   "cell_type": "code",
   "execution_count": 151,
   "metadata": {
    "collapsed": false,
    "jupyter": {
     "outputs_hidden": false
    }
   },
   "outputs": [],
   "source": [
    "def similar_anime_by_name(query):  \n",
    "    n = 0\n",
    "    print('Similar Anime to \"{}\":'.format(query))\n",
    "    for i, name in enumerate(anime_db.name):\n",
    "        if query in name:\n",
    "            print('Anime: {}; Format: {}'.format(anime_db.name[i],anime_db['type'][i]))\n",
    "            n+=1\n",
    "    if n == 0:\n",
    "        print('No anime with a name similar to \"{}\" exists in our database.'.format(query))\n"
   ]
  },
  {
   "cell_type": "code",
   "execution_count": 152,
   "metadata": {
    "collapsed": false,
    "jupyter": {
     "outputs_hidden": false
    }
   },
   "outputs": [
    {
     "name": "stdout",
     "output_type": "stream",
     "text": [
      "Similar Anime to \"Berserk\":\n",
      "Anime: Berserk; Format: TV\n",
      "Anime: Berserk Ougon Jidai hen III Kourin; Format: Movie\n",
      "Anime: Berserk Ougon Jidai hen II Doldrey Kouryaku; Format: Movie\n",
      "Anime: Berserk Ougon Jidai hen I Haou no Tamago; Format: Movie\n",
      "Anime: Berserk 2016 ; Format: TV\n",
      "Anime: Berserk 2017 ; Format: TV\n"
     ]
    }
   ],
   "source": [
    "similar_anime_by_name('Berserk')"
   ]
  },
  {
   "cell_type": "code",
   "execution_count": 158,
   "metadata": {
    "collapsed": false,
    "jupyter": {
     "outputs_hidden": false
    }
   },
   "outputs": [
    {
     "data": {
      "text/html": [
       "<div>\n",
       "<style>\n",
       "    .dataframe thead tr:only-child th {\n",
       "        text-align: right;\n",
       "    }\n",
       "\n",
       "    .dataframe thead th {\n",
       "        text-align: left;\n",
       "    }\n",
       "\n",
       "    .dataframe tbody tr th {\n",
       "        vertical-align: top;\n",
       "    }\n",
       "</style>\n",
       "<table border=\"1\" class=\"dataframe\">\n",
       "  <thead>\n",
       "    <tr style=\"text-align: right;\">\n",
       "      <th></th>\n",
       "      <th>anime_id</th>\n",
       "      <th>name</th>\n",
       "      <th>genre</th>\n",
       "      <th>type</th>\n",
       "      <th>episodes</th>\n",
       "      <th>rating</th>\n",
       "      <th>members</th>\n",
       "    </tr>\n",
       "  </thead>\n",
       "  <tbody>\n",
       "    <tr>\n",
       "      <th>0</th>\n",
       "      <td>32281</td>\n",
       "      <td>Kimi no Na wa</td>\n",
       "      <td>Drama, Romance, School, Supernatural</td>\n",
       "      <td>Movie</td>\n",
       "      <td>1</td>\n",
       "      <td>9.37</td>\n",
       "      <td>200630</td>\n",
       "    </tr>\n",
       "    <tr>\n",
       "      <th>1</th>\n",
       "      <td>5114</td>\n",
       "      <td>Fullmetal Alchemist Brotherhood</td>\n",
       "      <td>Action, Adventure, Drama, Fantasy, Magic, Mili...</td>\n",
       "      <td>TV</td>\n",
       "      <td>64</td>\n",
       "      <td>9.26</td>\n",
       "      <td>793665</td>\n",
       "    </tr>\n",
       "    <tr>\n",
       "      <th>2</th>\n",
       "      <td>28977</td>\n",
       "      <td>Gintama</td>\n",
       "      <td>Action, Comedy, Historical, Parody, Samurai, S...</td>\n",
       "      <td>TV</td>\n",
       "      <td>51</td>\n",
       "      <td>9.25</td>\n",
       "      <td>114262</td>\n",
       "    </tr>\n",
       "    <tr>\n",
       "      <th>3</th>\n",
       "      <td>9253</td>\n",
       "      <td>Steins Gate</td>\n",
       "      <td>Sci-Fi, Thriller</td>\n",
       "      <td>TV</td>\n",
       "      <td>24</td>\n",
       "      <td>9.17</td>\n",
       "      <td>673572</td>\n",
       "    </tr>\n",
       "    <tr>\n",
       "      <th>4</th>\n",
       "      <td>9969</td>\n",
       "      <td>Gintama 039</td>\n",
       "      <td>Action, Comedy, Historical, Parody, Samurai, S...</td>\n",
       "      <td>TV</td>\n",
       "      <td>51</td>\n",
       "      <td>9.16</td>\n",
       "      <td>151266</td>\n",
       "    </tr>\n",
       "    <tr>\n",
       "      <th>5</th>\n",
       "      <td>32935</td>\n",
       "      <td>Haikyuu Karasuno Koukou VS Shiratorizawa Gakue...</td>\n",
       "      <td>Comedy, Drama, School, Shounen, Sports</td>\n",
       "      <td>TV</td>\n",
       "      <td>10</td>\n",
       "      <td>9.15</td>\n",
       "      <td>93351</td>\n",
       "    </tr>\n",
       "    <tr>\n",
       "      <th>6</th>\n",
       "      <td>11061</td>\n",
       "      <td>Hunter x Hunter 2011</td>\n",
       "      <td>Action, Adventure, Shounen, Super Power</td>\n",
       "      <td>TV</td>\n",
       "      <td>148</td>\n",
       "      <td>9.13</td>\n",
       "      <td>425855</td>\n",
       "    </tr>\n",
       "    <tr>\n",
       "      <th>7</th>\n",
       "      <td>820</td>\n",
       "      <td>Ginga Eiyuu Densetsu</td>\n",
       "      <td>Drama, Military, Sci-Fi, Space</td>\n",
       "      <td>OVA</td>\n",
       "      <td>110</td>\n",
       "      <td>9.11</td>\n",
       "      <td>80679</td>\n",
       "    </tr>\n",
       "    <tr>\n",
       "      <th>9</th>\n",
       "      <td>15417</td>\n",
       "      <td>Gintama 039 Enchousen</td>\n",
       "      <td>Action, Comedy, Historical, Parody, Samurai, S...</td>\n",
       "      <td>TV</td>\n",
       "      <td>13</td>\n",
       "      <td>9.11</td>\n",
       "      <td>81109</td>\n",
       "    </tr>\n",
       "    <tr>\n",
       "      <th>8</th>\n",
       "      <td>15335</td>\n",
       "      <td>Gintama Movie Kanketsu hen Yorozuya yo Eien Nare</td>\n",
       "      <td>Action, Comedy, Historical, Parody, Samurai, S...</td>\n",
       "      <td>Movie</td>\n",
       "      <td>1</td>\n",
       "      <td>9.10</td>\n",
       "      <td>72534</td>\n",
       "    </tr>\n",
       "  </tbody>\n",
       "</table>\n",
       "</div>"
      ],
      "text/plain": [
       "   anime_id                                               name  \\\n",
       "0     32281                                     Kimi no Na wa    \n",
       "1      5114                    Fullmetal Alchemist Brotherhood   \n",
       "2     28977                                           Gintama    \n",
       "3      9253                                        Steins Gate   \n",
       "4      9969                                       Gintama 039    \n",
       "5     32935  Haikyuu Karasuno Koukou VS Shiratorizawa Gakue...   \n",
       "6     11061                              Hunter x Hunter 2011    \n",
       "7       820                               Ginga Eiyuu Densetsu   \n",
       "9     15417                              Gintama 039 Enchousen   \n",
       "8     15335   Gintama Movie Kanketsu hen Yorozuya yo Eien Nare   \n",
       "\n",
       "                                               genre   type episodes  rating  \\\n",
       "0               Drama, Romance, School, Supernatural  Movie        1    9.37   \n",
       "1  Action, Adventure, Drama, Fantasy, Magic, Mili...     TV       64    9.26   \n",
       "2  Action, Comedy, Historical, Parody, Samurai, S...     TV       51    9.25   \n",
       "3                                   Sci-Fi, Thriller     TV       24    9.17   \n",
       "4  Action, Comedy, Historical, Parody, Samurai, S...     TV       51    9.16   \n",
       "5             Comedy, Drama, School, Shounen, Sports     TV       10    9.15   \n",
       "6            Action, Adventure, Shounen, Super Power     TV      148    9.13   \n",
       "7                     Drama, Military, Sci-Fi, Space    OVA      110    9.11   \n",
       "9  Action, Comedy, Historical, Parody, Samurai, S...     TV       13    9.11   \n",
       "8  Action, Comedy, Historical, Parody, Samurai, S...  Movie        1    9.10   \n",
       "\n",
       "   members  \n",
       "0   200630  \n",
       "1   793665  \n",
       "2   114262  \n",
       "3   673572  \n",
       "4   151266  \n",
       "5    93351  \n",
       "6   425855  \n",
       "7    80679  \n",
       "9    81109  \n",
       "8    72534  "
      ]
     },
     "execution_count": 158,
     "metadata": {},
     "output_type": "execute_result"
    }
   ],
   "source": [
    "anime_db[anime_db.members > 100].sort_values('rating',ascending=False).head(10)"
   ]
  },
  {
   "cell_type": "code",
   "execution_count": 163,
   "metadata": {
    "collapsed": false,
    "jupyter": {
     "outputs_hidden": false
    }
   },
   "outputs": [
    {
     "name": "stderr",
     "output_type": "stream",
     "text": [
      "/home/mbcxjhr2/anaconda3/lib/python3.5/site-packages/ipykernel/__main__.py:1: UserWarning: Boolean Series key will be reindexed to match DataFrame index.\n",
      "  if __name__ == '__main__':\n"
     ]
    },
    {
     "data": {
      "text/html": [
       "<div>\n",
       "<style>\n",
       "    .dataframe thead tr:only-child th {\n",
       "        text-align: right;\n",
       "    }\n",
       "\n",
       "    .dataframe thead th {\n",
       "        text-align: left;\n",
       "    }\n",
       "\n",
       "    .dataframe tbody tr th {\n",
       "        vertical-align: top;\n",
       "    }\n",
       "</style>\n",
       "<table border=\"1\" class=\"dataframe\">\n",
       "  <thead>\n",
       "    <tr style=\"text-align: right;\">\n",
       "      <th></th>\n",
       "      <th>anime_id</th>\n",
       "      <th>name</th>\n",
       "      <th>genre</th>\n",
       "      <th>type</th>\n",
       "      <th>episodes</th>\n",
       "      <th>rating</th>\n",
       "      <th>members</th>\n",
       "    </tr>\n",
       "  </thead>\n",
       "  <tbody>\n",
       "    <tr>\n",
       "      <th>0</th>\n",
       "      <td>32281</td>\n",
       "      <td>Kimi no Na wa</td>\n",
       "      <td>Drama, Romance, School, Supernatural</td>\n",
       "      <td>Movie</td>\n",
       "      <td>1</td>\n",
       "      <td>9.37</td>\n",
       "      <td>200630</td>\n",
       "    </tr>\n",
       "    <tr>\n",
       "      <th>8</th>\n",
       "      <td>15335</td>\n",
       "      <td>Gintama Movie Kanketsu hen Yorozuya yo Eien Nare</td>\n",
       "      <td>Action, Comedy, Historical, Parody, Samurai, S...</td>\n",
       "      <td>Movie</td>\n",
       "      <td>1</td>\n",
       "      <td>9.10</td>\n",
       "      <td>72534</td>\n",
       "    </tr>\n",
       "    <tr>\n",
       "      <th>11</th>\n",
       "      <td>28851</td>\n",
       "      <td>Koe no Katachi</td>\n",
       "      <td>Drama, School, Shounen</td>\n",
       "      <td>Movie</td>\n",
       "      <td>1</td>\n",
       "      <td>9.05</td>\n",
       "      <td>102733</td>\n",
       "    </tr>\n",
       "    <tr>\n",
       "      <th>15</th>\n",
       "      <td>199</td>\n",
       "      <td>Sen to Chihiro no Kamikakushi</td>\n",
       "      <td>Adventure, Drama, Supernatural</td>\n",
       "      <td>Movie</td>\n",
       "      <td>1</td>\n",
       "      <td>8.93</td>\n",
       "      <td>466254</td>\n",
       "    </tr>\n",
       "    <tr>\n",
       "      <th>18</th>\n",
       "      <td>12355</td>\n",
       "      <td>Ookami Kodomo no Ame to Yuki</td>\n",
       "      <td>Fantasy, Slice of Life</td>\n",
       "      <td>Movie</td>\n",
       "      <td>1</td>\n",
       "      <td>8.84</td>\n",
       "      <td>226193</td>\n",
       "    </tr>\n",
       "    <tr>\n",
       "      <th>24</th>\n",
       "      <td>164</td>\n",
       "      <td>Mononoke Hime</td>\n",
       "      <td>Action, Adventure, Fantasy</td>\n",
       "      <td>Movie</td>\n",
       "      <td>1</td>\n",
       "      <td>8.81</td>\n",
       "      <td>339556</td>\n",
       "    </tr>\n",
       "    <tr>\n",
       "      <th>25</th>\n",
       "      <td>7311</td>\n",
       "      <td>Suzumiya Haruhi no Shoushitsu</td>\n",
       "      <td>Comedy, Mystery, Romance, School, Sci-Fi, Supe...</td>\n",
       "      <td>Movie</td>\n",
       "      <td>1</td>\n",
       "      <td>8.81</td>\n",
       "      <td>240297</td>\n",
       "    </tr>\n",
       "    <tr>\n",
       "      <th>33</th>\n",
       "      <td>28957</td>\n",
       "      <td>Mushishi Zoku Shou Suzu no Shizuku</td>\n",
       "      <td>Adventure, Fantasy, Historical, Mystery, Seine...</td>\n",
       "      <td>Movie</td>\n",
       "      <td>1</td>\n",
       "      <td>8.75</td>\n",
       "      <td>32266</td>\n",
       "    </tr>\n",
       "    <tr>\n",
       "      <th>35</th>\n",
       "      <td>431</td>\n",
       "      <td>Howl no Ugoku Shiro</td>\n",
       "      <td>Adventure, Drama, Fantasy, Romance</td>\n",
       "      <td>Movie</td>\n",
       "      <td>1</td>\n",
       "      <td>8.74</td>\n",
       "      <td>333186</td>\n",
       "    </tr>\n",
       "    <tr>\n",
       "      <th>37</th>\n",
       "      <td>31757</td>\n",
       "      <td>Kizumonogatari II Nekketsu hen</td>\n",
       "      <td>Action, Mystery, Supernatural, Vampire</td>\n",
       "      <td>Movie</td>\n",
       "      <td>1</td>\n",
       "      <td>8.73</td>\n",
       "      <td>34347</td>\n",
       "    </tr>\n",
       "  </tbody>\n",
       "</table>\n",
       "</div>"
      ],
      "text/plain": [
       "    anime_id                                              name  \\\n",
       "0      32281                                    Kimi no Na wa    \n",
       "8      15335  Gintama Movie Kanketsu hen Yorozuya yo Eien Nare   \n",
       "11     28851                                    Koe no Katachi   \n",
       "15       199                     Sen to Chihiro no Kamikakushi   \n",
       "18     12355                      Ookami Kodomo no Ame to Yuki   \n",
       "24       164                                     Mononoke Hime   \n",
       "25      7311                     Suzumiya Haruhi no Shoushitsu   \n",
       "33     28957                Mushishi Zoku Shou Suzu no Shizuku   \n",
       "35       431                               Howl no Ugoku Shiro   \n",
       "37     31757                    Kizumonogatari II Nekketsu hen   \n",
       "\n",
       "                                                genre   type episodes  rating  \\\n",
       "0                Drama, Romance, School, Supernatural  Movie        1    9.37   \n",
       "8   Action, Comedy, Historical, Parody, Samurai, S...  Movie        1    9.10   \n",
       "11                             Drama, School, Shounen  Movie        1    9.05   \n",
       "15                     Adventure, Drama, Supernatural  Movie        1    8.93   \n",
       "18                             Fantasy, Slice of Life  Movie        1    8.84   \n",
       "24                         Action, Adventure, Fantasy  Movie        1    8.81   \n",
       "25  Comedy, Mystery, Romance, School, Sci-Fi, Supe...  Movie        1    8.81   \n",
       "33  Adventure, Fantasy, Historical, Mystery, Seine...  Movie        1    8.75   \n",
       "35                 Adventure, Drama, Fantasy, Romance  Movie        1    8.74   \n",
       "37             Action, Mystery, Supernatural, Vampire  Movie        1    8.73   \n",
       "\n",
       "    members  \n",
       "0    200630  \n",
       "8     72534  \n",
       "11   102733  \n",
       "15   466254  \n",
       "18   226193  \n",
       "24   339556  \n",
       "25   240297  \n",
       "33    32266  \n",
       "35   333186  \n",
       "37    34347  "
      ]
     },
     "execution_count": 163,
     "metadata": {},
     "output_type": "execute_result"
    }
   ],
   "source": [
    "anime_db[anime_db['type'] == 'Movie'][anime_db.members > 100].sort_values('rating',ascending=False).head(10)"
   ]
  }
 ],
 "metadata": {
  "anaconda-cloud": {},
  "kernelspec": {
   "display_name": "Python 3",
   "language": "python",
   "name": "python3"
  },
  "language_info": {
   "codemirror_mode": {
    "name": "ipython",
    "version": 3
   },
   "file_extension": ".py",
   "mimetype": "text/x-python",
   "name": "python",
   "nbconvert_exporter": "python",
   "pygments_lexer": "ipython3",
   "version": "3.7.7"
  }
 },
 "nbformat": 4,
 "nbformat_minor": 4
}
